{
 "metadata": {
  "language_info": {
   "codemirror_mode": {
    "name": "ipython",
    "version": 3
   },
   "file_extension": ".py",
   "mimetype": "text/x-python",
   "name": "python",
   "nbconvert_exporter": "python",
   "pygments_lexer": "ipython3",
   "version": "3.6.12-final"
  },
  "orig_nbformat": 2,
  "kernelspec": {
   "name": "pnemonia",
   "display_name": "pnemonia"
  }
 },
 "nbformat": 4,
 "nbformat_minor": 2,
 "cells": [
  {
   "cell_type": "code",
   "execution_count": 1,
   "metadata": {},
   "outputs": [],
   "source": [
    "import pandas as pd\n",
    "import numpy as np\n",
    "import matplotlib.pyplot as plt\n",
    "import seaborn as sns\n",
    "%matplotlib inline\n",
    "sns.set()\n",
    "import os"
   ]
  },
  {
   "cell_type": "code",
   "execution_count": 17,
   "metadata": {},
   "outputs": [
    {
     "output_type": "execute_result",
     "data": {
      "text/plain": "    X_ray_image_name   Label\n0  IM-0128-0001.jpeg  Normal\n1  IM-0127-0001.jpeg  Normal\n2  IM-0125-0001.jpeg  Normal\n3  IM-0122-0001.jpeg  Normal\n4  IM-0119-0001.jpeg  Normal",
      "text/html": "<div>\n<style scoped>\n    .dataframe tbody tr th:only-of-type {\n        vertical-align: middle;\n    }\n\n    .dataframe tbody tr th {\n        vertical-align: top;\n    }\n\n    .dataframe thead th {\n        text-align: right;\n    }\n</style>\n<table border=\"1\" class=\"dataframe\">\n  <thead>\n    <tr style=\"text-align: right;\">\n      <th></th>\n      <th>X_ray_image_name</th>\n      <th>Label</th>\n    </tr>\n  </thead>\n  <tbody>\n    <tr>\n      <th>0</th>\n      <td>IM-0128-0001.jpeg</td>\n      <td>Normal</td>\n    </tr>\n    <tr>\n      <th>1</th>\n      <td>IM-0127-0001.jpeg</td>\n      <td>Normal</td>\n    </tr>\n    <tr>\n      <th>2</th>\n      <td>IM-0125-0001.jpeg</td>\n      <td>Normal</td>\n    </tr>\n    <tr>\n      <th>3</th>\n      <td>IM-0122-0001.jpeg</td>\n      <td>Normal</td>\n    </tr>\n    <tr>\n      <th>4</th>\n      <td>IM-0119-0001.jpeg</td>\n      <td>Normal</td>\n    </tr>\n  </tbody>\n</table>\n</div>"
     },
     "metadata": {},
     "execution_count": 17
    }
   ],
   "source": [
    "df=pd.read_csv(\"/home/manpreet/codes/medical/pnumonia/data/metadata.csv\").drop([\"Unnamed: 0\",\"Dataset_type\",\"Label_2_Virus_category\",\"Label_1_Virus_category\"],1)\n",
    "df.head()\n"
   ]
  },
  {
   "cell_type": "code",
   "execution_count": 18,
   "metadata": {},
   "outputs": [
    {
     "output_type": "execute_result",
     "data": {
      "text/plain": "                  X_ray_image_name     Label\n2030     person12_bacteria_46.jpeg  Pnemonia\n4534  person683_bacteria_2578.jpeg  Pnemonia\n1524    person1082_virus_1794.jpeg  Pnemonia\n3580      person339_virus_695.jpeg  Pnemonia\n4827     person833_virus_1469.jpeg  Pnemonia",
      "text/html": "<div>\n<style scoped>\n    .dataframe tbody tr th:only-of-type {\n        vertical-align: middle;\n    }\n\n    .dataframe tbody tr th {\n        vertical-align: top;\n    }\n\n    .dataframe thead th {\n        text-align: right;\n    }\n</style>\n<table border=\"1\" class=\"dataframe\">\n  <thead>\n    <tr style=\"text-align: right;\">\n      <th></th>\n      <th>X_ray_image_name</th>\n      <th>Label</th>\n    </tr>\n  </thead>\n  <tbody>\n    <tr>\n      <th>2030</th>\n      <td>person12_bacteria_46.jpeg</td>\n      <td>Pnemonia</td>\n    </tr>\n    <tr>\n      <th>4534</th>\n      <td>person683_bacteria_2578.jpeg</td>\n      <td>Pnemonia</td>\n    </tr>\n    <tr>\n      <th>1524</th>\n      <td>person1082_virus_1794.jpeg</td>\n      <td>Pnemonia</td>\n    </tr>\n    <tr>\n      <th>3580</th>\n      <td>person339_virus_695.jpeg</td>\n      <td>Pnemonia</td>\n    </tr>\n    <tr>\n      <th>4827</th>\n      <td>person833_virus_1469.jpeg</td>\n      <td>Pnemonia</td>\n    </tr>\n  </tbody>\n</table>\n</div>"
     },
     "metadata": {},
     "execution_count": 18
    }
   ],
   "source": [
    "df2=df.sample(frac=1)\n",
    "df2.head()"
   ]
  },
  {
   "cell_type": "code",
   "execution_count": 19,
   "metadata": {},
   "outputs": [
    {
     "output_type": "execute_result",
     "data": {
      "text/plain": "True"
     },
     "metadata": {},
     "execution_count": 19
    }
   ],
   "source": [
    "len(df)==len(df2)"
   ]
  },
  {
   "cell_type": "code",
   "execution_count": 20,
   "metadata": {},
   "outputs": [
    {
     "output_type": "execute_result",
     "data": {
      "text/plain": "5910"
     },
     "metadata": {},
     "execution_count": 20
    }
   ],
   "source": [
    "len(df)"
   ]
  },
  {
   "cell_type": "code",
   "execution_count": 21,
   "metadata": {},
   "outputs": [
    {
     "output_type": "execute_result",
     "data": {
      "text/plain": "1182.0"
     },
     "metadata": {},
     "execution_count": 21
    }
   ],
   "source": [
    "len(df)*0.2\n"
   ]
  },
  {
   "cell_type": "code",
   "execution_count": 22,
   "metadata": {},
   "outputs": [
    {
     "output_type": "execute_result",
     "data": {
      "text/plain": "                   X_ray_image_name     Label\n1182      NORMAL2-IM-1209-0001.jpeg    Normal\n2270  person1358_bacteria_3465.jpeg  Pnemonia\n4521   person690_bacteria_2587.jpeg  Pnemonia\n2252     person1367_virus_2351.jpeg  Pnemonia\n1169      NORMAL2-IM-1150-0001.jpeg    Normal\n...                             ...       ...\n4974      person745_virus_1368.jpeg  Pnemonia\n669       NORMAL2-IM-0456-0001.jpeg    Normal\n5351              IM-0065-0001.jpeg    Normal\n1727     person1226_virus_2077.jpeg  Pnemonia\n3655   person454_bacteria_1945.jpeg  Pnemonia\n\n[3430 rows x 2 columns]",
      "text/html": "<div>\n<style scoped>\n    .dataframe tbody tr th:only-of-type {\n        vertical-align: middle;\n    }\n\n    .dataframe tbody tr th {\n        vertical-align: top;\n    }\n\n    .dataframe thead th {\n        text-align: right;\n    }\n</style>\n<table border=\"1\" class=\"dataframe\">\n  <thead>\n    <tr style=\"text-align: right;\">\n      <th></th>\n      <th>X_ray_image_name</th>\n      <th>Label</th>\n    </tr>\n  </thead>\n  <tbody>\n    <tr>\n      <th>1182</th>\n      <td>NORMAL2-IM-1209-0001.jpeg</td>\n      <td>Normal</td>\n    </tr>\n    <tr>\n      <th>2270</th>\n      <td>person1358_bacteria_3465.jpeg</td>\n      <td>Pnemonia</td>\n    </tr>\n    <tr>\n      <th>4521</th>\n      <td>person690_bacteria_2587.jpeg</td>\n      <td>Pnemonia</td>\n    </tr>\n    <tr>\n      <th>2252</th>\n      <td>person1367_virus_2351.jpeg</td>\n      <td>Pnemonia</td>\n    </tr>\n    <tr>\n      <th>1169</th>\n      <td>NORMAL2-IM-1150-0001.jpeg</td>\n      <td>Normal</td>\n    </tr>\n    <tr>\n      <th>...</th>\n      <td>...</td>\n      <td>...</td>\n    </tr>\n    <tr>\n      <th>4974</th>\n      <td>person745_virus_1368.jpeg</td>\n      <td>Pnemonia</td>\n    </tr>\n    <tr>\n      <th>669</th>\n      <td>NORMAL2-IM-0456-0001.jpeg</td>\n      <td>Normal</td>\n    </tr>\n    <tr>\n      <th>5351</th>\n      <td>IM-0065-0001.jpeg</td>\n      <td>Normal</td>\n    </tr>\n    <tr>\n      <th>1727</th>\n      <td>person1226_virus_2077.jpeg</td>\n      <td>Pnemonia</td>\n    </tr>\n    <tr>\n      <th>3655</th>\n      <td>person454_bacteria_1945.jpeg</td>\n      <td>Pnemonia</td>\n    </tr>\n  </tbody>\n</table>\n<p>3430 rows × 2 columns</p>\n</div>"
     },
     "metadata": {},
     "execution_count": 22
    }
   ],
   "source": [
    "df2.loc[int(len(df)*0.2):,:]"
   ]
  },
  {
   "cell_type": "code",
   "execution_count": 23,
   "metadata": {},
   "outputs": [],
   "source": [
    "import tensorflow as tf"
   ]
  },
  {
   "cell_type": "code",
   "execution_count": 29,
   "metadata": {
    "tags": []
   },
   "outputs": [
    {
     "output_type": "stream",
     "name": "stdout",
     "text": "Downloading data from https://github.com/keras-team/keras-applications/releases/download/densenet/densenet121_weights_tf_dim_ordering_tf_kernels_notop.h5\n29089792/29084464 [==============================] - 40s 1us/step\n"
    }
   ],
   "source": [
    "model=tf.keras.applications.densenet.DenseNet121(include_top=False)"
   ]
  },
  {
   "cell_type": "code",
   "execution_count": 30,
   "metadata": {},
   "outputs": [
    {
     "output_type": "execute_result",
     "data": {
      "text/plain": "<tf.Tensor 'relu_2/Identity:0' shape=(None, None, None, 1024) dtype=float32>"
     },
     "metadata": {},
     "execution_count": 30
    }
   ],
   "source": [
    "model.output"
   ]
  },
  {
   "cell_type": "code",
   "execution_count": 32,
   "metadata": {},
   "outputs": [
    {
     "output_type": "execute_result",
     "data": {
      "text/plain": "    X_ray_image_name   Label\n0  IM-0128-0001.jpeg  Normal\n1  IM-0127-0001.jpeg  Normal\n2  IM-0125-0001.jpeg  Normal\n3  IM-0122-0001.jpeg  Normal\n4  IM-0119-0001.jpeg  Normal",
      "text/html": "<div>\n<style scoped>\n    .dataframe tbody tr th:only-of-type {\n        vertical-align: middle;\n    }\n\n    .dataframe tbody tr th {\n        vertical-align: top;\n    }\n\n    .dataframe thead th {\n        text-align: right;\n    }\n</style>\n<table border=\"1\" class=\"dataframe\">\n  <thead>\n    <tr style=\"text-align: right;\">\n      <th></th>\n      <th>X_ray_image_name</th>\n      <th>Label</th>\n    </tr>\n  </thead>\n  <tbody>\n    <tr>\n      <th>0</th>\n      <td>IM-0128-0001.jpeg</td>\n      <td>Normal</td>\n    </tr>\n    <tr>\n      <th>1</th>\n      <td>IM-0127-0001.jpeg</td>\n      <td>Normal</td>\n    </tr>\n    <tr>\n      <th>2</th>\n      <td>IM-0125-0001.jpeg</td>\n      <td>Normal</td>\n    </tr>\n    <tr>\n      <th>3</th>\n      <td>IM-0122-0001.jpeg</td>\n      <td>Normal</td>\n    </tr>\n    <tr>\n      <th>4</th>\n      <td>IM-0119-0001.jpeg</td>\n      <td>Normal</td>\n    </tr>\n  </tbody>\n</table>\n</div>"
     },
     "metadata": {},
     "execution_count": 32
    }
   ],
   "source": [
    "df.head()"
   ]
  },
  {
   "cell_type": "code",
   "execution_count": 39,
   "metadata": {},
   "outputs": [],
   "source": [
    "df.Label=df.Label.astype('category').cat.codes"
   ]
  },
  {
   "cell_type": "code",
   "execution_count": 40,
   "metadata": {},
   "outputs": [
    {
     "output_type": "execute_result",
     "data": {
      "text/plain": "    X_ray_image_name  Label\n0  IM-0128-0001.jpeg      0\n1  IM-0127-0001.jpeg      0\n2  IM-0125-0001.jpeg      0\n3  IM-0122-0001.jpeg      0\n4  IM-0119-0001.jpeg      0",
      "text/html": "<div>\n<style scoped>\n    .dataframe tbody tr th:only-of-type {\n        vertical-align: middle;\n    }\n\n    .dataframe tbody tr th {\n        vertical-align: top;\n    }\n\n    .dataframe thead th {\n        text-align: right;\n    }\n</style>\n<table border=\"1\" class=\"dataframe\">\n  <thead>\n    <tr style=\"text-align: right;\">\n      <th></th>\n      <th>X_ray_image_name</th>\n      <th>Label</th>\n    </tr>\n  </thead>\n  <tbody>\n    <tr>\n      <th>0</th>\n      <td>IM-0128-0001.jpeg</td>\n      <td>0</td>\n    </tr>\n    <tr>\n      <th>1</th>\n      <td>IM-0127-0001.jpeg</td>\n      <td>0</td>\n    </tr>\n    <tr>\n      <th>2</th>\n      <td>IM-0125-0001.jpeg</td>\n      <td>0</td>\n    </tr>\n    <tr>\n      <th>3</th>\n      <td>IM-0122-0001.jpeg</td>\n      <td>0</td>\n    </tr>\n    <tr>\n      <th>4</th>\n      <td>IM-0119-0001.jpeg</td>\n      <td>0</td>\n    </tr>\n  </tbody>\n</table>\n</div>"
     },
     "metadata": {},
     "execution_count": 40
    }
   ],
   "source": [
    "df.head()"
   ]
  },
  {
   "cell_type": "code",
   "execution_count": 43,
   "metadata": {},
   "outputs": [
    {
     "output_type": "execute_result",
     "data": {
      "text/plain": "1    4334\n0    1576\nName: Label, dtype: int64"
     },
     "metadata": {},
     "execution_count": 43
    }
   ],
   "source": [
    "df.Label.value_counts()"
   ]
  },
  {
   "cell_type": "code",
   "execution_count": 44,
   "metadata": {},
   "outputs": [
    {
     "output_type": "error",
     "ename": "ModuleNotFoundError",
     "evalue": "No module named 'keras'",
     "traceback": [
      "\u001b[0;31m---------------------------------------------------------------------------\u001b[0m",
      "\u001b[0;31mModuleNotFoundError\u001b[0m                       Traceback (most recent call last)",
      "\u001b[0;32m<ipython-input-44-88d96843a926>\u001b[0m in \u001b[0;36m<module>\u001b[0;34m\u001b[0m\n\u001b[0;32m----> 1\u001b[0;31m \u001b[0;32mimport\u001b[0m \u001b[0mkeras\u001b[0m\u001b[0;34m\u001b[0m\u001b[0;34m\u001b[0m\u001b[0m\n\u001b[0m",
      "\u001b[0;31mModuleNotFoundError\u001b[0m: No module named 'keras'"
     ]
    }
   ],
   "source": []
  },
  {
   "cell_type": "code",
   "execution_count": null,
   "metadata": {},
   "outputs": [],
   "source": []
  }
 ]
}